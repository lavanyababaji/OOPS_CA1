{
 "cells": [
  {
   "cell_type": "code",
   "execution_count": 1,
   "metadata": {},
   "outputs": [
    {
     "name": "stdout",
     "output_type": "stream",
     "text": [
      "   Intersection_ID                 Time Traffic_Density  Vehicle_Count  \\\n",
      "0               13  2024-09-24 00:00:00          Medium            284   \n",
      "1               48  2024-09-24 00:15:00          Medium             43   \n",
      "2               27  2024-09-24 00:30:00          Medium             37   \n",
      "3               20  2024-09-24 00:45:00          Medium            112   \n",
      "4                9  2024-09-24 01:00:00          Medium             41   \n",
      "\n",
      "   Light_Timing  Feature_6  Feature_7  Feature_8  Feature_9  Feature_10  ...  \\\n",
      "0           119   0.289410   0.308771   0.228803   0.119670    0.283009  ...   \n",
      "1           134   0.402752   0.280515   0.226794   0.295977    0.955128  ...   \n",
      "2           156   0.606883   0.312184   0.481238   0.036033    0.290714  ...   \n",
      "3            82   0.636612   0.606178   0.175464   0.477328    0.688013  ...   \n",
      "4            46   0.174202   0.685482   0.449213   0.911839    0.582962  ...   \n",
      "\n",
      "   Feature_91  Feature_92  Feature_93  Feature_94  Feature_95  Feature_96  \\\n",
      "0    0.483237    0.039169    0.636349    0.506730    0.128063    0.655478   \n",
      "1    0.193575    0.378540    0.451892    0.822823    0.625939    0.000525   \n",
      "2    0.472960    0.810388    0.753364    0.529338    0.178240    0.594341   \n",
      "3    0.046707    0.700040    0.793238    0.153451    0.626713    0.727542   \n",
      "4    0.333944    0.429275    0.596934    0.018017    0.329127    0.706752   \n",
      "\n",
      "   Feature_97  Feature_98  Feature_99  Feature_100  \n",
      "0    0.784646    0.613077    0.458014     0.253661  \n",
      "1    0.547138    0.627839    0.150661     0.243269  \n",
      "2    0.891964    0.516812    0.390291     0.046768  \n",
      "3    0.585791    0.218788    0.999079     0.710088  \n",
      "4    0.730013    0.372860    0.580690     0.771187  \n",
      "\n",
      "[5 rows x 100 columns]\n"
     ]
    }
   ],
   "source": [
    "import pandas as pd\n",
    "import numpy as np\n",
    "\n",
    "# Number of rows and columns\n",
    "num_rows = 1000  # Number of data points\n",
    "num_cols = 100   # Total columns\n",
    "\n",
    "# Creating base columns\n",
    "data = {\n",
    "    'Intersection_ID': np.random.randint(1, 51, size=num_rows),  # 50 intersections\n",
    "    'Time': pd.date_range(start='2024-09-24 00:00:00', periods=num_rows, freq='15min').astype(str),\n",
    "    'Traffic_Density': np.random.choice(['Low', 'Medium', 'High'], size=num_rows),\n",
    "    'Vehicle_Count': np.random.randint(5, 300, size=num_rows),  # Vehicle count between 5 and 300\n",
    "    'Light_Timing': np.random.randint(10, 180, size=num_rows),  # Timing of lights in seconds\n",
    "}\n",
    "\n",
    "# Function to generate random vehicle type distributions\n",
    "def generate_vehicle_type_distribution():\n",
    "    types = ['cars', 'bikes', 'buses', 'trucks']\n",
    "    return {vehicle: np.random.randint(0, 50) for vehicle in types}\n",
    "\n",
    "# Adding synthetic columns\n",
    "for i in range(6, num_cols + 1):\n",
    "    column_name = f'Feature_{i}'  # Placeholder names for additional features\n",
    "    data[column_name] = np.random.random(size=num_rows)  # Random float values for additional columns\n",
    "\n",
    "# Creating DataFrame\n",
    "df = pd.DataFrame(data)\n",
    "\n",
    "# Save the dataset as CSV\n",
    "df.to_csv('traffic_data.csv', index=False)\n",
    "\n",
    "# Displaying the first few rows of the dataset\n",
    "print(df.head())"
   ]
  },
  {
   "cell_type": "code",
   "execution_count": 2,
   "metadata": {},
   "outputs": [
    {
     "name": "stdout",
     "output_type": "stream",
     "text": [
      "Adjusted light timing for Intersection 1: 50 seconds\n",
      "Estimated vehicles passed during green light: 83.33\n"
     ]
    }
   ],
   "source": [
    "class TrafficManager:\n",
    "    def __init__(self, intersection_id, light_timing):\n",
    "        self.intersection_id = intersection_id\n",
    "        self.light_timing = light_timing  # light timing in seconds\n",
    "\n",
    "    def adjust_timings(self, traffic_density):\n",
    "        \"\"\"Adjusts the traffic light timings based on traffic density.\"\"\"\n",
    "        if traffic_density == 'Low':\n",
    "            self.light_timing = max(10, self.light_timing - 10)  # Decrease timing\n",
    "        elif traffic_density == 'Medium':\n",
    "            self.light_timing = self.light_timing  # Keep timing the same\n",
    "        elif traffic_density == 'High':\n",
    "            self.light_timing = min(180, self.light_timing + 20)  # Increase timing\n",
    "        else:\n",
    "            raise ValueError(\"Invalid traffic density. Choose from 'Low', 'Medium', 'High'.\")\n",
    "\n",
    "        print(f\"Adjusted light timing for Intersection {self.intersection_id}: {self.light_timing} seconds\")\n",
    "\n",
    "    def simulate_traffic_flow(self, vehicle_count):\n",
    "        \"\"\"Simulates traffic flow at the intersection based on the current light timing.\"\"\"\n",
    "        # Calculate the number of vehicles that can pass during the green light\n",
    "        vehicles_passed = vehicle_count * (self.light_timing / 60)  # assuming each vehicle takes ~1 minute to pass\n",
    "        return vehicles_passed\n",
    "\n",
    "# Example usage\n",
    "if __name__ == \"__main__\":\n",
    "    # Create an instance of TrafficManager\n",
    "    traffic_manager = TrafficManager(intersection_id=1, light_timing=30)\n",
    "\n",
    "    # Adjust timings based on traffic density\n",
    "    traffic_manager.adjust_timings('High')\n",
    "\n",
    "    # Simulate traffic flow with a vehicle count of 100\n",
    "    vehicles_passed = traffic_manager.simulate_traffic_flow(vehicle_count=100)\n",
    "    print(f\"Estimated vehicles passed during green light: {vehicles_passed:.2f}\")\n"
   ]
  }
 ],
 "metadata": {
  "kernelspec": {
   "display_name": "Python 3",
   "language": "python",
   "name": "python3"
  },
  "language_info": {
   "codemirror_mode": {
    "name": "ipython",
    "version": 3
   },
   "file_extension": ".py",
   "mimetype": "text/x-python",
   "name": "python",
   "nbconvert_exporter": "python",
   "pygments_lexer": "ipython3",
   "version": "3.9.0"
  }
 },
 "nbformat": 4,
 "nbformat_minor": 2
}
